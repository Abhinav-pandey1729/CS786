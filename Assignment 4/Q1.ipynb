{
 "cells": [
  {
   "cell_type": "code",
   "execution_count": 14,
   "metadata": {},
   "outputs": [],
   "source": [
    "import pandas as pd\n",
    "import numpy as np\n",
    "from scipy.spatial.distance import cityblock"
   ]
  },
  {
   "cell_type": "code",
   "execution_count": 2,
   "metadata": {},
   "outputs": [],
   "source": [
    "\n",
    "X = np.genfromtxt('X.csv', delimiter=',')\n",
    "y = np.genfromtxt('y.csv', delimiter=',')"
   ]
  },
  {
   "cell_type": "code",
   "execution_count": 5,
   "metadata": {},
   "outputs": [],
   "source": [
    "# Unpack the training data\n",
    "weights, heights, labels = X[:, 0], X[:, 1], X[:, 2].astype(int)\n",
    "\n",
    "# Unpack the test data\n",
    "test_weights, test_heights = y[:, 0], y[:, 1]"
   ]
  },
  {
   "cell_type": "code",
   "execution_count": 6,
   "metadata": {},
   "outputs": [],
   "source": [
    "# Define the GCM parameters\n",
    "c_small = 1\n",
    "c_average = 2\n",
    "c_large = 3\n",
    "bias_weight = 2\n",
    "bias_height = 1\n"
   ]
  },
  {
   "cell_type": "code",
   "execution_count": 16,
   "metadata": {},
   "outputs": [
    {
     "name": "stdout",
     "output_type": "stream",
     "text": [
      "Test set predictions: [3, 2, 3, 2, 2, 3, 2, 2, 2, 1]\n"
     ]
    }
   ],
   "source": [
    "def gcm(weight, height, c):\n",
    "  \n",
    "    distances = []\n",
    "    for i in range(len(weights)):\n",
    "        dist = cityblock([weight, height], [weights[i], heights[i]])\n",
    "        if labels[i] == c:\n",
    "            dist *= bias_weight if c == c_average else bias_height\n",
    "        distances.append(dist)\n",
    "    \n",
    "    similarities = np.exp(-np.array(distances))\n",
    "    return np.sum(similarities[labels == c]) / np.sum(similarities)\n",
    "\n",
    "# Make predictions on the test set\n",
    "test_predictions = []\n",
    "for weight, height in zip(test_weights, test_heights):\n",
    "    probs = [gcm(weight, height, c) for c in [c_small, c_average, c_large]]\n",
    "    test_predictions.append(np.argmax(probs) + 1)\n",
    "\n",
    "print(\"Test set predictions:\", test_predictions)"
   ]
  },
  {
   "cell_type": "code",
   "execution_count": null,
   "metadata": {},
   "outputs": [],
   "source": []
  }
 ],
 "metadata": {
  "kernelspec": {
   "display_name": "Python 3",
   "language": "python",
   "name": "python3"
  },
  "language_info": {
   "codemirror_mode": {
    "name": "ipython",
    "version": 3
   },
   "file_extension": ".py",
   "mimetype": "text/x-python",
   "name": "python",
   "nbconvert_exporter": "python",
   "pygments_lexer": "ipython3",
   "version": "3.11.4"
  }
 },
 "nbformat": 4,
 "nbformat_minor": 2
}
